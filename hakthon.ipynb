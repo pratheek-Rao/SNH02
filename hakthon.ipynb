{
  "cells": [
    {
      "cell_type": "code",
      "execution_count": 6,
      "metadata": {
        "colab": {
          "base_uri": "https://localhost:8080/"
        },
        "id": "nbM5HanCm30d",
        "outputId": "c3bafa25-8cc5-45dd-c81c-8c9a3e838968"
      },
      "outputs": [
        {
          "name": "stdout",
          "output_type": "stream",
          "text": [
            "Collecting pyttsx3\n",
            "  Downloading pyttsx3-2.90-py3-none-any.whl (39 kB)\n",
            "Collecting comtypes (from pyttsx3)\n",
            "  Obtaining dependency information for comtypes from https://files.pythonhosted.org/packages/c2/a7/fe4bd49b5c4afa7a7ed3852abda6909e48c00715e6a134e47055381113aa/comtypes-1.2.0-py2.py3-none-any.whl.metadata\n",
            "  Downloading comtypes-1.2.0-py2.py3-none-any.whl.metadata (3.7 kB)\n",
            "Collecting pypiwin32 (from pyttsx3)\n",
            "  Downloading pypiwin32-223-py3-none-any.whl (1.7 kB)\n",
            "Requirement already satisfied: pywin32 in c:\\users\\prath\\anaconda3\\lib\\site-packages (from pyttsx3) (305.1)\n",
            "Downloading comtypes-1.2.0-py2.py3-none-any.whl (184 kB)\n",
            "   ---------------------------------------- 0.0/184.3 kB ? eta -:--:--\n",
            "   --------------------------------------- 184.3/184.3 kB 10.9 MB/s eta 0:00:00\n",
            "Installing collected packages: comtypes, pypiwin32, pyttsx3\n",
            "Successfully installed comtypes-1.2.0 pypiwin32-223 pyttsx3-2.90\n"
          ]
        }
      ],
      "source": [
        "! pip install pyttsx3"
      ]
    },
    {
      "cell_type": "code",
      "execution_count": 30,
      "metadata": {
        "colab": {
          "base_uri": "https://localhost:8080/",
          "height": 405
        },
        "id": "xopTmX84m62V",
        "outputId": "b52fda57-f423-4521-e636-e6cc6551890b"
      },
      "outputs": [],
      "source": [
        "import re\n",
        "import pandas as pd\n",
        "\n",
        "from sklearn import preprocessing\n",
        "from sklearn.tree import DecisionTreeClassifier,_tree\n",
        "import numpy as np\n",
        "from sklearn.model_selection import train_test_split\n",
        "from sklearn.model_selection import cross_val_score\n",
        "from sklearn.svm import SVC\n",
        "import csv\n",
        "import warnings\n",
        "warnings.filterwarnings(\"ignore\", category=DeprecationWarning)\n",
        "import pickle\n",
        "\n",
        "\n"
      ]
    },
    {
      "cell_type": "code",
      "execution_count": 26,
      "metadata": {
        "id": "f3AUVo9GnCvg"
      },
      "outputs": [],
      "source": [
        "training = pd.read_csv('C:\\\\Users\\\\prath\\\\Desktop\\\\Training.csv')\n",
        "testing= pd.read_csv('C:\\\\Users\\\\prath\\\\Desktop\\\\Testing.csv')\n",
        "cols= training.columns\n",
        "cols= cols[:-1]\n",
        "x = training[cols]\n",
        "y = training['prognosis']\n",
        "y1= y"
      ]
    },
    {
      "cell_type": "code",
      "execution_count": 27,
      "metadata": {
        "id": "X9VATbDVnOa-"
      },
      "outputs": [],
      "source": [
        "reduced_data = training.groupby(training['prognosis']).max()\n",
        "\n",
        "#mapping strings to numbers\n",
        "le = preprocessing.LabelEncoder()\n",
        "le.fit(y)\n",
        "y = le.transform(y)"
      ]
    },
    {
      "cell_type": "code",
      "execution_count": null,
      "metadata": {},
      "outputs": [],
      "source": []
    },
    {
      "cell_type": "code",
      "execution_count": 28,
      "metadata": {
        "id": "zRRwPZiknVXf"
      },
      "outputs": [],
      "source": [
        "x_train, x_test, y_train, y_test = train_test_split(x, y, test_size=0.33, random_state=42)\n",
        "testx    = testing[cols]\n",
        "testy    = testing['prognosis']\n",
        "testy    = le.transform(testy)\n"
      ]
    },
    {
      "cell_type": "code",
      "execution_count": 13,
      "metadata": {
        "colab": {
          "base_uri": "https://localhost:8080/"
        },
        "id": "S2S_qhV1natk",
        "outputId": "14d8e6a3-e859-4e27-9cd4-1e523781e799"
      },
      "outputs": [
        {
          "name": "stdout",
          "output_type": "stream",
          "text": [
            "0.9753701973248937\n"
          ]
        }
      ],
      "source": [
        "clf1  = DecisionTreeClassifier()\n",
        "clf = clf1.fit(x_train,y_train)\n",
        "# print(clf.score(x_train,y_train))\n",
        "# print (\"cross result========\")\n",
        "scores = cross_val_score(clf, x_test, y_test, cv=3)\n",
        "# print (scores)\n",
        "print (scores.mean())"
      ]
    },
    {
      "cell_type": "code",
      "execution_count": 31,
      "metadata": {},
      "outputs": [],
      "source": [
        "pickle.dump(clf, open('classifier_model.pkl', 'wb'))"
      ]
    },
    {
      "cell_type": "code",
      "execution_count": 15,
      "metadata": {
        "colab": {
          "base_uri": "https://localhost:8080/"
        },
        "id": "DtazWZLMne_C",
        "outputId": "ad92db4d-98c9-48dd-b0e6-0e690da5d489"
      },
      "outputs": [
        {
          "name": "stdout",
          "output_type": "stream",
          "text": [
            "for svm: \n",
            "1.0\n"
          ]
        }
      ],
      "source": [
        "model=SVC()\n",
        "model.fit(x_train,y_train)\n",
        "print(\"for svm: \")\n",
        "print(model.score(x_test,y_test))"
      ]
    },
    {
      "cell_type": "code",
      "execution_count": 32,
      "metadata": {},
      "outputs": [],
      "source": [
        "pickle.dump(clf, open('svm_model.pkl', 'wb'))"
      ]
    },
    {
      "cell_type": "code",
      "execution_count": 16,
      "metadata": {
        "id": "BmdKg1y9nlYo"
      },
      "outputs": [],
      "source": [
        "importances = clf.feature_importances_\n",
        "indices = np.argsort(importances)[::-1]\n",
        "features = cols"
      ]
    },
    {
      "cell_type": "code",
      "execution_count": 33,
      "metadata": {},
      "outputs": [],
      "source": [
        "model = pickle.load(open('svm_model.pkl', 'rb'))"
      ]
    },
    {
      "cell_type": "code",
      "execution_count": 34,
      "metadata": {},
      "outputs": [],
      "source": [
        "clf =  pickle.load(open('classifier_model.pkl','rb'))"
      ]
    },
    {
      "cell_type": "code",
      "execution_count": 35,
      "metadata": {
        "colab": {
          "base_uri": "https://localhost:8080/"
        },
        "id": "1J5EoqT4nsPW",
        "outputId": "f3fce208-63f8-451f-a271-52da5a778596"
      },
      "outputs": [
        {
          "name": "stdout",
          "output_type": "stream",
          "text": [
            "-----------------------------------HealthCare ChatBot-----------------------------------\n",
            "\n",
            "Your Name? \t\t\t\t->"
          ]
        },
        {
          "name": "stdout",
          "output_type": "stream",
          "text": [
            "Hello,  \n",
            "\n",
            "Enter the symptom you are experiencing  \t\t->searches related to input: \n",
            "0 ) itching\n",
            "1 ) skin_rash\n",
            "2 ) nodal_skin_eruptions\n",
            "3 ) continuous_sneezing\n",
            "4 ) shivering\n",
            "5 ) chills\n",
            "6 ) joint_pain\n",
            "7 ) stomach_pain\n",
            "8 ) acidity\n",
            "9 ) ulcers_on_tongue\n",
            "10 ) muscle_wasting\n",
            "11 ) vomiting\n",
            "12 ) burning_micturition\n",
            "13 ) spotting_ urination\n",
            "14 ) fatigue\n",
            "15 ) weight_gain\n",
            "16 ) anxiety\n",
            "17 ) cold_hands_and_feets\n",
            "18 ) mood_swings\n",
            "19 ) weight_loss\n",
            "20 ) restlessness\n",
            "21 ) lethargy\n",
            "22 ) patches_in_throat\n",
            "23 ) irregular_sugar_level\n",
            "24 ) cough\n",
            "25 ) high_fever\n",
            "26 ) sunken_eyes\n",
            "27 ) breathlessness\n",
            "28 ) sweating\n",
            "29 ) dehydration\n",
            "30 ) indigestion\n",
            "31 ) headache\n",
            "32 ) yellowish_skin\n",
            "33 ) dark_urine\n",
            "34 ) nausea\n",
            "35 ) loss_of_appetite\n",
            "36 ) pain_behind_the_eyes\n",
            "37 ) back_pain\n",
            "38 ) constipation\n",
            "39 ) abdominal_pain\n",
            "40 ) diarrhoea\n",
            "41 ) mild_fever\n",
            "42 ) yellow_urine\n",
            "43 ) yellowing_of_eyes\n",
            "44 ) acute_liver_failure\n",
            "45 ) fluid_overload\n",
            "46 ) swelling_of_stomach\n",
            "47 ) swelled_lymph_nodes\n",
            "48 ) malaise\n",
            "49 ) blurred_and_distorted_vision\n",
            "50 ) phlegm\n",
            "51 ) throat_irritation\n",
            "52 ) redness_of_eyes\n",
            "53 ) sinus_pressure\n",
            "54 ) runny_nose\n",
            "55 ) congestion\n",
            "56 ) chest_pain\n",
            "57 ) weakness_in_limbs\n",
            "58 ) fast_heart_rate\n",
            "59 ) pain_during_bowel_movements\n",
            "60 ) pain_in_anal_region\n",
            "61 ) bloody_stool\n",
            "62 ) irritation_in_anus\n",
            "63 ) neck_pain\n",
            "64 ) dizziness\n",
            "65 ) cramps\n",
            "66 ) bruising\n",
            "67 ) obesity\n",
            "68 ) swollen_legs\n",
            "69 ) swollen_blood_vessels\n",
            "70 ) puffy_face_and_eyes\n",
            "71 ) enlarged_thyroid\n",
            "72 ) brittle_nails\n",
            "73 ) swollen_extremeties\n",
            "74 ) excessive_hunger\n",
            "75 ) extra_marital_contacts\n",
            "76 ) drying_and_tingling_lips\n",
            "77 ) slurred_speech\n",
            "78 ) knee_pain\n",
            "79 ) hip_joint_pain\n",
            "80 ) muscle_weakness\n",
            "81 ) stiff_neck\n",
            "82 ) swelling_joints\n",
            "83 ) movement_stiffness\n",
            "84 ) spinning_movements\n",
            "85 ) loss_of_balance\n",
            "86 ) unsteadiness\n",
            "87 ) weakness_of_one_body_side\n",
            "88 ) loss_of_smell\n",
            "89 ) bladder_discomfort\n",
            "90 ) foul_smell_of urine\n",
            "91 ) continuous_feel_of_urine\n",
            "92 ) passage_of_gases\n",
            "93 ) internal_itching\n",
            "94 ) toxic_look_(typhos)\n",
            "95 ) depression\n",
            "96 ) irritability\n",
            "97 ) muscle_pain\n",
            "98 ) altered_sensorium\n",
            "99 ) red_spots_over_body\n",
            "100 ) belly_pain\n",
            "101 ) abnormal_menstruation\n",
            "102 ) dischromic _patches\n",
            "103 ) watering_from_eyes\n",
            "104 ) increased_appetite\n",
            "105 ) polyuria\n",
            "106 ) family_history\n",
            "107 ) mucoid_sputum\n",
            "108 ) rusty_sputum\n",
            "109 ) lack_of_concentration\n",
            "110 ) visual_disturbances\n",
            "111 ) receiving_blood_transfusion\n",
            "112 ) receiving_unsterile_injections\n",
            "113 ) coma\n",
            "114 ) stomach_bleeding\n",
            "115 ) distention_of_abdomen\n",
            "116 ) history_of_alcohol_consumption\n",
            "117 ) fluid_overload.1\n",
            "118 ) blood_in_sputum\n",
            "119 ) prominent_veins_on_calf\n",
            "120 ) palpitations\n",
            "121 ) painful_walking\n",
            "122 ) pus_filled_pimples\n",
            "123 ) blackheads\n",
            "124 ) scurring\n",
            "125 ) skin_peeling\n",
            "126 ) silver_like_dusting\n",
            "127 ) small_dents_in_nails\n",
            "128 ) inflammatory_nails\n",
            "129 ) blister\n",
            "130 ) red_sore_around_nose\n",
            "131 ) yellow_crust_ooze\n",
            "Select the one you meant (0 - 131):  "
          ]
        },
        {
          "ename": "ValueError",
          "evalue": "invalid literal for int() with base 10: ''",
          "output_type": "error",
          "traceback": [
            "\u001b[1;31m---------------------------------------------------------------------------\u001b[0m",
            "\u001b[1;31mValueError\u001b[0m                                Traceback (most recent call last)",
            "\u001b[1;32mc:\\Users\\prath\\Downloads\\hakthon.ipynb Cell 14\u001b[0m line \u001b[0;36m2\n\u001b[0;32m    <a href='vscode-notebook-cell:/c%3A/Users/prath/Downloads/hakthon.ipynb#X11sZmlsZQ%3D%3D?line=209'>210</a>\u001b[0m getprecautionDict()\n\u001b[0;32m    <a href='vscode-notebook-cell:/c%3A/Users/prath/Downloads/hakthon.ipynb#X11sZmlsZQ%3D%3D?line=210'>211</a>\u001b[0m getInfo()\n\u001b[1;32m--> <a href='vscode-notebook-cell:/c%3A/Users/prath/Downloads/hakthon.ipynb#X11sZmlsZQ%3D%3D?line=211'>212</a>\u001b[0m tree_to_code(clf,cols)\n\u001b[0;32m    <a href='vscode-notebook-cell:/c%3A/Users/prath/Downloads/hakthon.ipynb#X11sZmlsZQ%3D%3D?line=212'>213</a>\u001b[0m \u001b[39mprint\u001b[39m(\u001b[39m\"\u001b[39m\u001b[39m----------------------------------------------------------------------------------------\u001b[39m\u001b[39m\"\u001b[39m)\n\u001b[0;32m    <a href='vscode-notebook-cell:/c%3A/Users/prath/Downloads/hakthon.ipynb#X11sZmlsZQ%3D%3D?line=214'>215</a>\u001b[0m \u001b[39mimport\u001b[39;00m \u001b[39mpickle\u001b[39;00m\n",
            "\u001b[1;32mc:\\Users\\prath\\Downloads\\hakthon.ipynb Cell 14\u001b[0m line \u001b[0;36m1\n\u001b[0;32m    <a href='vscode-notebook-cell:/c%3A/Users/prath/Downloads/hakthon.ipynb#X11sZmlsZQ%3D%3D?line=123'>124</a>\u001b[0m \u001b[39mif\u001b[39;00m num\u001b[39m!=\u001b[39m\u001b[39m0\u001b[39m:\n\u001b[0;32m    <a href='vscode-notebook-cell:/c%3A/Users/prath/Downloads/hakthon.ipynb#X11sZmlsZQ%3D%3D?line=124'>125</a>\u001b[0m     \u001b[39mprint\u001b[39m(\u001b[39mf\u001b[39m\u001b[39m\"\u001b[39m\u001b[39mSelect the one you meant (0 - \u001b[39m\u001b[39m{\u001b[39;00mnum\u001b[39m}\u001b[39;00m\u001b[39m):  \u001b[39m\u001b[39m\"\u001b[39m, end\u001b[39m=\u001b[39m\u001b[39m\"\u001b[39m\u001b[39m\"\u001b[39m)\n\u001b[1;32m--> <a href='vscode-notebook-cell:/c%3A/Users/prath/Downloads/hakthon.ipynb#X11sZmlsZQ%3D%3D?line=125'>126</a>\u001b[0m     conf_inp \u001b[39m=\u001b[39m \u001b[39mint\u001b[39m(\u001b[39minput\u001b[39m(\u001b[39m\"\u001b[39m\u001b[39m\"\u001b[39m))\n\u001b[0;32m    <a href='vscode-notebook-cell:/c%3A/Users/prath/Downloads/hakthon.ipynb#X11sZmlsZQ%3D%3D?line=126'>127</a>\u001b[0m \u001b[39melse\u001b[39;00m:\n\u001b[0;32m    <a href='vscode-notebook-cell:/c%3A/Users/prath/Downloads/hakthon.ipynb#X11sZmlsZQ%3D%3D?line=127'>128</a>\u001b[0m     conf_inp\u001b[39m=\u001b[39m\u001b[39m0\u001b[39m\n",
            "\u001b[1;31mValueError\u001b[0m: invalid literal for int() with base 10: ''"
          ]
        }
      ],
      "source": [
        "def readn(nstr):\n",
        "    engine = pyttsx3.init()\n",
        "\n",
        "    engine.setProperty('voice', \"english+f5\")\n",
        "    engine.setProperty('rate', 130)\n",
        "\n",
        "    engine.say(nstr)\n",
        "    engine.runAndWait()\n",
        "    engine.stop()\n",
        "\n",
        "\n",
        "severityDictionary=dict()\n",
        "description_list = dict()\n",
        "precautionDictionary=dict()\n",
        "\n",
        "symptoms_dict = {}\n",
        "\n",
        "for index, symptom in enumerate(x):\n",
        "       symptoms_dict[symptom] = index\n",
        "def calc_condition(exp,days):\n",
        "    sum=0\n",
        "    for item in exp:\n",
        "         sum=sum+severityDictionary[item]\n",
        "    if((sum*days)/(len(exp)+1)>13):\n",
        "        print(\"You should take the consultation from doctor. \")\n",
        "    else:\n",
        "        print(\"It might not be that bad but you should take precautions.\")\n",
        "\n",
        "\n",
        "def getDescription():\n",
        "    global description_list\n",
        "    with open('C:\\\\Users\\\\prath\\\\Desktop\\\\symptom_Description.csv') as csv_file:\n",
        "        csv_reader = csv.reader(csv_file, delimiter=',')\n",
        "        line_count = 0\n",
        "        for row in csv_reader:\n",
        "            _description={row[0]:row[1]}\n",
        "            description_list.update(_description)\n",
        "\n",
        "\n",
        "\n",
        "\n",
        "def getSeverityDict():\n",
        "    global severityDictionary\n",
        "    with open('C:\\\\Users\\\\prath\\\\Desktop\\\\Symptom_severity.csv') as csv_file:\n",
        "\n",
        "        csv_reader = csv.reader(csv_file, delimiter=',')\n",
        "        line_count = 0\n",
        "        try:\n",
        "            for row in csv_reader:\n",
        "                _diction={row[0]:int(row[1])}\n",
        "                severityDictionary.update(_diction)\n",
        "        except:\n",
        "            pass\n",
        "\n",
        "\n",
        "def getprecautionDict():\n",
        "    global precautionDictionary\n",
        "    with open('C:\\\\Users\\\\prath\\\\Desktop\\\\symptom_precaution.csv') as csv_file:\n",
        "\n",
        "        csv_reader = csv.reader(csv_file, delimiter=',')\n",
        "        line_count = 0\n",
        "        for row in csv_reader:\n",
        "            _prec={row[0]:[row[1],row[2],row[3],row[4]]}\n",
        "            precautionDictionary.update(_prec)\n",
        "\n",
        "\n",
        "def getInfo():\n",
        "    print(\"-----------------------------------HealthCare ChatBot-----------------------------------\")\n",
        "    print(\"\\nYour Name? \\t\\t\\t\\t\",end=\"->\")\n",
        "    name=input(\"\")\n",
        "    print(\"Hello, \",name)\n",
        "\n",
        "def check_pattern(dis_list,inp):\n",
        "    pred_list=[]\n",
        "    inp=inp.replace(' ','_')\n",
        "    patt = f\"{inp}\"\n",
        "    regexp = re.compile(patt)\n",
        "    pred_list=[item for item in dis_list if regexp.search(item)]\n",
        "    if(len(pred_list)>0):\n",
        "        return 1,pred_list\n",
        "    else:\n",
        "        return 0,[]\n",
        "def sec_predict(symptoms_exp):\n",
        "    df = pd.read_csv('C:\\\\Users\\\\prath\\\\Desktop\\\\Training.csv')\n",
        "    X = df.iloc[:, :-1]\n",
        "    y = df['prognosis']\n",
        "    X_train, X_test, y_train, y_test = train_test_split(X, y, test_size=0.3, random_state=20)\n",
        "    rf_clf = DecisionTreeClassifier()\n",
        "    rf_clf.fit(X_train, y_train)\n",
        "\n",
        "    symptoms_dict = {symptom: index for index, symptom in enumerate(X)}\n",
        "    input_vector = np.zeros(len(symptoms_dict))\n",
        "    for item in symptoms_exp:\n",
        "      input_vector[[symptoms_dict[item]]] = 1\n",
        "\n",
        "    return rf_clf.predict([input_vector])\n",
        "\n",
        "\n",
        "def print_disease(node):\n",
        "    node = node[0]\n",
        "    val  = node.nonzero()\n",
        "    disease = le.inverse_transform(val[0])\n",
        "    return list(map(lambda x:x.strip(),list(disease)))\n",
        "\n",
        "def tree_to_code(tree, feature_names):\n",
        "    tree_ = tree.tree_\n",
        "    feature_name = [\n",
        "        feature_names[i] if i != _tree.TREE_UNDEFINED else \"undefined!\"\n",
        "        for i in tree_.feature\n",
        "    ]\n",
        "\n",
        "    chk_dis=\",\".join(feature_names).split(\",\")\n",
        "    symptoms_present = []\n",
        "\n",
        "    while True:\n",
        "\n",
        "        print(\"\\nEnter the symptom you are experiencing  \\t\\t\",end=\"->\")\n",
        "        disease_input = input(\"\")\n",
        "        conf,cnf_dis=check_pattern(chk_dis,disease_input)\n",
        "        if conf==1:\n",
        "            print(\"searches related to input: \")\n",
        "            for num,it in enumerate(cnf_dis):\n",
        "                print(num,\")\",it)\n",
        "            if num!=0:\n",
        "                print(f\"Select the one you meant (0 - {num}):  \", end=\"\")\n",
        "                conf_inp = int(input(\"\"))\n",
        "            else:\n",
        "                conf_inp=0\n",
        "\n",
        "            disease_input=cnf_dis[conf_inp]\n",
        "            break\n",
        "            # print(\"Did you mean: \",cnf_dis,\"?(yes/no) :\",end=\"\")\n",
        "            # conf_inp = input(\"\")\n",
        "            # if(conf_inp==\"yes\"):\n",
        "            #     break\n",
        "        else:\n",
        "            print(\"Enter valid symptom.\")\n",
        "\n",
        "    while True:\n",
        "        try:\n",
        "            num_days=int(input(\"Okay. From how many days ? : \"))\n",
        "            break\n",
        "        except:\n",
        "            print(\"Enter valid input.\")\n",
        "    def recurse(node, depth):\n",
        "        indent = \"  \" * depth\n",
        "        if tree_.feature[node] != _tree.TREE_UNDEFINED:\n",
        "            name = feature_name[node]\n",
        "            threshold = tree_.threshold[node]\n",
        "\n",
        "            if name == disease_input:\n",
        "                val = 1\n",
        "            else:\n",
        "                val = 0\n",
        "            if  val <= threshold:\n",
        "                recurse(tree_.children_left[node], depth + 1)\n",
        "            else:\n",
        "                symptoms_present.append(name)\n",
        "                recurse(tree_.children_right[node], depth + 1)\n",
        "        else:\n",
        "            present_disease = print_disease(tree_.value[node])\n",
        "            # print( \"You may have \" +  present_disease )\n",
        "            red_cols = reduced_data.columns\n",
        "            symptoms_given = red_cols[reduced_data.loc[present_disease].values[0].nonzero()]\n",
        "            # dis_list=list(symptoms_present)\n",
        "            # if len(dis_list)!=0:\n",
        "            #     print(\"symptoms present  \" + str(list(symptoms_present)))\n",
        "            # print(\"symptoms given \"  +  str(list(symptoms_given)) )\n",
        "            print(\"Are you experiencing any \")\n",
        "            symptoms_exp=[]\n",
        "            for syms in list(symptoms_given):\n",
        "                inp=\"\"\n",
        "                print(syms,\"? : \",end='')\n",
        "                while True:\n",
        "                    inp=input(\"\")\n",
        "                    if(inp==\"yes\" or inp==\"no\"):\n",
        "                        break\n",
        "                    else:\n",
        "                        print(\"provide proper answers i.e. (yes/no) : \",end=\"\")\n",
        "                if(inp==\"yes\"):\n",
        "                    symptoms_exp.append(syms)\n",
        "\n",
        "            second_prediction=sec_predict(symptoms_exp)\n",
        "            # print(second_prediction)\n",
        "            calc_condition(symptoms_exp,num_days)\n",
        "            if(present_disease[0]==second_prediction[0]):\n",
        "                print(\"You may have \", present_disease[0])\n",
        "                print(description_list[present_disease[0]])\n",
        "\n",
        "                # readn(f\"You may have {present_disease[0]}\")\n",
        "                # readn(f\"{description_list[present_disease[0]]}\")\n",
        "\n",
        "            else:\n",
        "                print(\"You may have \", present_disease[0], \"or \", second_prediction[0])\n",
        "                print(description_list[present_disease[0]])\n",
        "                print(description_list[second_prediction[0]])\n",
        "\n",
        "            # print(description_list[present_disease[0]])\n",
        "            precution_list=precautionDictionary[present_disease[0]]\n",
        "            print(\"Take following measures : \")\n",
        "            for  i,j in enumerate(precution_list):\n",
        "                print(i+1,\")\",j)\n",
        "\n",
        "            # confidence_level = (1.0*len(symptoms_present))/len(symptoms_given)\n",
        "            # print(\"confidence level is \" + str(confidence_level))\n",
        "\n",
        "    recurse(0, 1)\n",
        "getSeverityDict()\n",
        "getDescription()\n",
        "getprecautionDict()\n",
        "getInfo()\n",
        "tree_to_code(clf,cols)\n",
        "print(\"----------------------------------------------------------------------------------------\")\n",
        "\n",
        "import pickle\n",
        "model = DecisionTreeClassifier()\n",
        "with open('model.pk1','wb')as f:\n",
        "    pickle.dump(model,f)"
      ]
    },
    {
      "cell_type": "code",
      "execution_count": null,
      "metadata": {
        "id": "KoimPOURn3o6"
      },
      "outputs": [],
      "source": []
    }
  ],
  "metadata": {
    "colab": {
      "provenance": []
    },
    "kernelspec": {
      "display_name": "Python 3",
      "name": "python3"
    },
    "language_info": {
      "codemirror_mode": {
        "name": "ipython",
        "version": 3
      },
      "file_extension": ".py",
      "mimetype": "text/x-python",
      "name": "python",
      "nbconvert_exporter": "python",
      "pygments_lexer": "ipython3",
      "version": "3.11.5"
    }
  },
  "nbformat": 4,
  "nbformat_minor": 0
}
